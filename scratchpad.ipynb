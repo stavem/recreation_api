{
 "cells": [
  {
   "cell_type": "code",
   "execution_count": 2,
   "outputs": [
    {
     "data": {
      "text/plain": "True"
     },
     "execution_count": 2,
     "metadata": {},
     "output_type": "execute_result"
    }
   ],
   "source": [
    "from dotenv import load_dotenv\n",
    "import json\n",
    "import os\n",
    "import pandas as pd\n",
    "import requests\n",
    "\n",
    "load_dotenv()"
   ],
   "metadata": {
    "collapsed": false
   }
  },
  {
   "cell_type": "code",
   "execution_count": null,
   "outputs": [],
   "source": [
    "#params\n",
    "NPS_API_KEY = os.getenv('NPS_API_KEY')\n",
    "state_code = 'WA'\n",
    "park_code = 'olym'"
   ],
   "metadata": {
    "collapsed": false
   }
  },
  {
   "cell_type": "code",
   "execution_count": null,
   "outputs": [],
   "source": [
    "BASE_URL = 'https://developer.nps.gov/api/v1/campgrounds'\n",
    "params = {'stateCode': state_code, 'parkCode': park_code, 'api_key': NPS_API_KEY}"
   ],
   "metadata": {
    "collapsed": false
   }
  },
  {
   "cell_type": "code",
   "execution_count": null,
   "outputs": [],
   "source": [
    "response = requests.get(BASE_URL, params=params)\n",
    "print(f'Status Returned: {response.status_code}')\n",
    "print(f'Message: {response.reason}\\n')\n",
    "print(json.dumps(response.json(), indent=2))\n"
   ],
   "metadata": {
    "collapsed": false
   }
  },
  {
   "cell_type": "code",
   "execution_count": null,
   "outputs": [],
   "source": [
    "raw_data = response.json()\n",
    "df = pd.json_normalize(raw_data['data'])\n",
    "df.sort_values(by='name')\n"
   ],
   "metadata": {
    "collapsed": false
   }
  },
  {
   "cell_type": "code",
   "execution_count": null,
   "outputs": [],
   "source": [
    "BASE_URL = 'https://ridb.recreation.gov/api/v1/campsites'\n",
    "params = {'campgroundID': '232487', 'api_key': REC_API_KEY}\n"
   ],
   "metadata": {
    "collapsed": false
   }
  },
  {
   "cell_type": "code",
   "execution_count": 5,
   "outputs": [
    {
     "data": {
      "text/plain": "'e63c4b2c-01f0-44b5-b702-c70bef93c972'"
     },
     "execution_count": 5,
     "metadata": {},
     "output_type": "execute_result"
    }
   ],
   "source": [
    "REC_API_KEY = os.getenv('RECREATION_API_KEY')\n",
    "REC_API_KEY"
   ],
   "metadata": {
    "collapsed": false
   }
  },
  {
   "cell_type": "code",
   "execution_count": 6,
   "outputs": [],
   "source": [
    "BASE_URL = 'https://ridb.recreation.gov/api/v1/campsites'\n",
    "params = {'campgroundID': '232487', 'api_key': REC_API_KEY}"
   ],
   "metadata": {
    "collapsed": false
   }
  },
  {
   "cell_type": "code",
   "execution_count": 7,
   "outputs": [
    {
     "name": "stdout",
     "output_type": "stream",
     "text": [
      "Status Returned: 401\n",
      "Message: Unauthorized\n",
      "\n",
      "{\n",
      "  \"error\": \"Unauthorized Access\"\n",
      "}\n"
     ]
    }
   ],
   "source": [
    "response = requests.get(BASE_URL, params=params)\n",
    "print(f'Status Returned: {response.status_code}')\n",
    "print(f'Message: {response.reason}\\n')\n",
    "print(json.dumps(response.json(), indent=2))"
   ],
   "metadata": {
    "collapsed": false
   }
  }
 ],
 "metadata": {
  "kernelspec": {
   "display_name": "Python 3",
   "language": "python",
   "name": "python3"
  },
  "language_info": {
   "codemirror_mode": {
    "name": "ipython",
    "version": 2
   },
   "file_extension": ".py",
   "mimetype": "text/x-python",
   "name": "python",
   "nbconvert_exporter": "python",
   "pygments_lexer": "ipython2",
   "version": "2.7.6"
  }
 },
 "nbformat": 4,
 "nbformat_minor": 0
}
